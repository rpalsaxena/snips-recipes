{
 "cells": [
  {
   "cell_type": "code",
   "execution_count": 1,
   "id": "8db9a957",
   "metadata": {},
   "outputs": [],
   "source": [
    "from torch.utils.data import Dataset, DataLoader\n",
    "import torch\n",
    "import torch.nn as nn"
   ]
  },
  {
   "cell_type": "code",
   "execution_count": 2,
   "id": "e94a63ac",
   "metadata": {},
   "outputs": [],
   "source": [
    "x = [[1, 2], [3, 4], [5, 6], [7, 8]]\n",
    "y = [[3], [7], [11], [15]]\n",
    "X = torch.tensor(x).float()\n",
    "Y = torch.tensor(y).float()"
   ]
  },
  {
   "cell_type": "code",
   "execution_count": 3,
   "id": "f5337e06",
   "metadata": {},
   "outputs": [],
   "source": [
    "device = 'cuda' if torch.cuda.is_available() else 'cpu'\n",
    "X = X.to(device)\n",
    "Y = Y.to(device)"
   ]
  },
  {
   "cell_type": "code",
   "execution_count": 18,
   "id": "0d6c03db",
   "metadata": {},
   "outputs": [],
   "source": [
    "class MyDataSet(Dataset):\n",
    "    def __init__(self, x, y):\n",
    "        self.x = torch.tensor(x).float()\n",
    "        self.y = torch.tensor(y).float()\n",
    "    \n",
    "    def __len__(self):\n",
    "        return len(self.x)\n",
    "    \n",
    "    def __getitem__(self, ix):\n",
    "        return self.x[ix], self.y[ix]"
   ]
  },
  {
   "cell_type": "code",
   "execution_count": 19,
   "id": "05eff9bc",
   "metadata": {},
   "outputs": [],
   "source": [
    "ds = MyDataSet(x, y)"
   ]
  },
  {
   "cell_type": "code",
   "execution_count": 20,
   "id": "105bb4ec",
   "metadata": {},
   "outputs": [],
   "source": [
    "dataloader = DataLoader(ds, batch_size=2, shuffle=True)"
   ]
  },
  {
   "cell_type": "code",
   "execution_count": 23,
   "id": "594686bb",
   "metadata": {},
   "outputs": [
    {
     "name": "stdout",
     "output_type": "stream",
     "text": [
      "tensor([[3., 4.],\n",
      "        [5., 6.]]) tensor([[ 7.],\n",
      "        [11.]])\n",
      "tensor([[7., 8.],\n",
      "        [1., 2.]]) tensor([[15.],\n",
      "        [ 3.]])\n"
     ]
    }
   ],
   "source": [
    "for x, y in dataloader:\n",
    "    print(x, y)"
   ]
  },
  {
   "cell_type": "code",
   "execution_count": 24,
   "id": "f1a088ff",
   "metadata": {},
   "outputs": [],
   "source": [
    "class MyNet(nn.Module):\n",
    "    def __init__(self):\n",
    "        super().__init__()\n",
    "        self.inputTohidden = nn.Linear(2, 8)\n",
    "        self.hiddenTooutput = nn.Linear(8, 1)\n",
    "        self.activation = nn.ReLU()\n",
    "        \n",
    "    def forward(self, x):\n",
    "        x = self.inputTohidden(x)\n",
    "        x = self.activation(x)\n",
    "        \n",
    "        x = self.hiddenTooutput(x)\n",
    "        return x"
   ]
  },
  {
   "cell_type": "code",
   "execution_count": 31,
   "id": "d97ac189",
   "metadata": {},
   "outputs": [],
   "source": [
    "net = MyNet().to(device)\n",
    "criterion = nn.MSELoss()\n",
    "from torch.optim import SGD\n",
    "opt = SGD(net.parameters(), lr=0.0001)"
   ]
  },
  {
   "cell_type": "code",
   "execution_count": 32,
   "id": "9e8643a5",
   "metadata": {},
   "outputs": [
    {
     "name": "stdout",
     "output_type": "stream",
     "text": [
      "0.17523932456970215\n"
     ]
    }
   ],
   "source": [
    "import time\n",
    "loss_history = []\n",
    "start = time.time()\n",
    "for i in range(50):\n",
    "    for x, y in dataloader:\n",
    "        x, y = x.to(device), y.to(device)\n",
    "        \n",
    "        opt.zero_grad()\n",
    "        pred = net(x)\n",
    "        loss_val = criterion(pred, y)\n",
    "        loss_val.backward()\n",
    "        opt.step()\n",
    "        loss_history.append(loss_val.cpu().detach().numpy())\n",
    "end = time.time()\n",
    "print(end-start)        "
   ]
  },
  {
   "cell_type": "markdown",
   "id": "2c2be9d6",
   "metadata": {},
   "source": [
    "### Predicting on new data points"
   ]
  },
  {
   "cell_type": "code",
   "execution_count": 35,
   "id": "84d0400a",
   "metadata": {},
   "outputs": [],
   "source": [
    "val_x = [[9, 10]]\n",
    "val_x = torch.tensor(val_x).float().to(device)"
   ]
  },
  {
   "cell_type": "code",
   "execution_count": 36,
   "id": "77114d40",
   "metadata": {},
   "outputs": [
    {
     "data": {
      "text/plain": [
       "tensor([[14.9984]], device='cuda:0', grad_fn=<AddmmBackward0>)"
      ]
     },
     "execution_count": 36,
     "metadata": {},
     "output_type": "execute_result"
    }
   ],
   "source": [
    "net(val_x)"
   ]
  },
  {
   "cell_type": "code",
   "execution_count": null,
   "id": "761868dd",
   "metadata": {},
   "outputs": [],
   "source": []
  }
 ],
 "metadata": {
  "kernelspec": {
   "display_name": "Python 3 (ipykernel)",
   "language": "python",
   "name": "python3"
  },
  "language_info": {
   "codemirror_mode": {
    "name": "ipython",
    "version": 3
   },
   "file_extension": ".py",
   "mimetype": "text/x-python",
   "name": "python",
   "nbconvert_exporter": "python",
   "pygments_lexer": "ipython3",
   "version": "3.9.12"
  }
 },
 "nbformat": 4,
 "nbformat_minor": 5
}
