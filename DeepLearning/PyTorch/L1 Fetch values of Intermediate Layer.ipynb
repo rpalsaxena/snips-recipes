{
 "cells": [
  {
   "cell_type": "code",
   "execution_count": 1,
   "id": "bd6c378f",
   "metadata": {},
   "outputs": [],
   "source": [
    "import torch\n",
    "x = [[1, 2], [3, 4], [5, 6], [7, 8]]\n",
    "y = [[3], [7], [11], [15]]"
   ]
  },
  {
   "cell_type": "code",
   "execution_count": 2,
   "id": "80a3f549",
   "metadata": {},
   "outputs": [],
   "source": [
    "X = torch.tensor(x).float()\n",
    "Y = torch.tensor(y).float()\n",
    "\n",
    "device = 'cuda' if torch.cuda.is_available() else 'cpu'\n",
    "X = X.to(device)\n",
    "Y = Y.to(device)"
   ]
  },
  {
   "cell_type": "code",
   "execution_count": 3,
   "id": "d8ede232",
   "metadata": {},
   "outputs": [],
   "source": [
    "import torch.nn as nn\n",
    "class MyNet(nn.Module):\n",
    "    def __init__(self):\n",
    "        super().__init__()\n",
    "        self.ItoH = nn.Linear(2, 8)\n",
    "        self.HtoO = nn.Linear(8, 1)\n",
    "        self.activation = nn.ReLU()\n",
    "        \n",
    "    def forward(self, x):\n",
    "        x = self.ItoH(x)\n",
    "        x = self.activation(x)\n",
    "        x = self.HtoO(x)\n",
    "        \n",
    "        return x"
   ]
  },
  {
   "cell_type": "code",
   "execution_count": 4,
   "id": "41c50595",
   "metadata": {},
   "outputs": [
    {
     "name": "stdout",
     "output_type": "stream",
     "text": [
      "tensor(102.1544, device='cuda:0', grad_fn=<MseLossBackward0>)\n"
     ]
    }
   ],
   "source": [
    "torch.random.manual_seed(10)\n",
    "\n",
    "net = MyNet().to(device)\n",
    "loss_func = nn.MSELoss()\n",
    "\n",
    "pred = net(X)\n",
    "loss_val = loss_func(pred, Y)\n",
    "print(loss_val)"
   ]
  },
  {
   "cell_type": "code",
   "execution_count": 9,
   "id": "053adaa4",
   "metadata": {},
   "outputs": [
    {
     "data": {
      "text/plain": [
       "Text(0, 0.5, 'loss value')"
      ]
     },
     "execution_count": 9,
     "metadata": {},
     "output_type": "execute_result"
    },
    {
     "data": {
      "image/png": "[encoded data removed]",
      "text/plain": [
       "<Figure size 432x288 with 1 Axes>"
      ]
     },
     "metadata": {
      "needs_background": "light"
     },
     "output_type": "display_data"
    }
   ],
   "source": [
    "from torch.optim import SGD\n",
    "opt = SGD(net.parameters(), lr = 0.001)\n",
    "loss_history = []\n",
    "for _ in range(50):\n",
    "    opt.zero_grad()\n",
    "    loss_value = loss_func(net(X),Y)\n",
    "    loss_value.backward()\n",
    "    opt.step()\n",
    "    loss_history.append(loss_value.cpu().detach().numpy())\n",
    "    \n",
    "import matplotlib.pyplot as plt\n",
    "%matplotlib inline\n",
    "plt.plot(loss_history)\n",
    "plt.title('Loss variation over increasing epochs')\n",
    "plt.xlabel('epochs')\n",
    "plt.ylabel('loss value')"
   ]
  },
  {
   "cell_type": "markdown",
   "id": "731a8934",
   "metadata": {},
   "source": [
    "### Get intermediate value"
   ]
  },
  {
   "cell_type": "code",
   "execution_count": 10,
   "id": "57973318",
   "metadata": {},
   "outputs": [
    {
     "data": {
      "text/plain": [
       "tensor([[-4.0139e-01, -8.9409e-05, -4.9131e-01,  1.4654e+00, -3.8093e-01,\n",
       "         -7.1646e-01,  4.7527e-01,  2.0970e+00],\n",
       "        [-5.6844e-01, -2.4036e-01, -1.5498e+00,  3.1739e+00, -5.2755e-01,\n",
       "         -7.3935e-01,  1.9801e+00,  5.3247e+00],\n",
       "        [-7.3548e-01, -4.8062e-01, -2.6083e+00,  4.8823e+00, -6.7418e-01,\n",
       "         -7.6225e-01,  3.4850e+00,  8.5524e+00],\n",
       "        [-9.0252e-01, -7.2089e-01, -3.6667e+00,  6.5908e+00, -8.2080e-01,\n",
       "         -7.8514e-01,  4.9898e+00,  1.1780e+01]], device='cuda:0',\n",
       "       grad_fn=<AddmmBackward0>)"
      ]
     },
     "execution_count": 10,
     "metadata": {},
     "output_type": "execute_result"
    }
   ],
   "source": [
    "net.ItoH(X)"
   ]
  },
  {
   "cell_type": "code",
   "execution_count": 12,
   "id": "60fb3da9",
   "metadata": {},
   "outputs": [
    {
     "data": {
      "text/plain": [
       "Text(0, 0.5, 'loss value')"
      ]
     },
     "execution_count": 12,
     "metadata": {},
     "output_type": "execute_result"
    },
    {
     "data": {
      "image/png": "[encoded data removed]",
      "text/plain": [
       "<Figure size 432x288 with 1 Axes>"
      ]
     },
     "metadata": {
      "needs_background": "light"
     },
     "output_type": "display_data"
    }
   ],
   "source": [
    "torch.random.manual_seed(10)\n",
    "class MyNeuralNet(nn.Module):\n",
    "    def __init__(self):\n",
    "        super().__init__()\n",
    "        self.input_to_hidden_layer = nn.Linear(2,8)\n",
    "        self.hidden_layer_activation = nn.ReLU()\n",
    "        self.hidden_to_output_layer = nn.Linear(8,1)\n",
    "    def forward(self, x):\n",
    "        hidden1 = self.input_to_hidden_layer(x)\n",
    "        hidden2 = self.hidden_layer_activation(hidden1)\n",
    "        x = self.hidden_to_output_layer(hidden2)\n",
    "        return x, hidden1\n",
    "\n",
    "mynet = MyNeuralNet().to(device)\n",
    "loss_func = nn.MSELoss()\n",
    "_Y, _Y_hidden = mynet(X)\n",
    "loss_value = loss_func(_Y,Y)\n",
    "opt = SGD(mynet.parameters(), lr = 0.001)\n",
    "loss_history = []\n",
    "for _ in range(50):\n",
    "    opt.zero_grad()\n",
    "    loss_value = loss_func(mynet(X)[0],Y)\n",
    "    loss_value.backward()\n",
    "    opt.step()\n",
    "    loss_history.append(loss_value.cpu().detach().numpy())\n",
    "\n",
    "import matplotlib.pyplot as plt\n",
    "%matplotlib inline\n",
    "plt.plot(loss_history)\n",
    "plt.title('Loss variation over increasing epochs')\n",
    "plt.xlabel('epochs')\n",
    "plt.ylabel('loss value')"
   ]
  },
  {
   "cell_type": "code",
   "execution_count": 19,
   "id": "44d8cbc2",
   "metadata": {},
   "outputs": [
    {
     "data": {
      "text/plain": [
       "tensor([[-4.0139e-01,  7.2155e-03, -4.9131e-01,  1.4615e+00, -3.8093e-01,\n",
       "         -7.1646e-01,  4.6765e-01,  2.0814e+00],\n",
       "        [-5.6844e-01, -2.2575e-01, -1.5498e+00,  3.1695e+00, -5.2755e-01,\n",
       "         -7.3935e-01,  1.9716e+00,  5.3073e+00],\n",
       "        [-7.3548e-01, -4.5871e-01, -2.6083e+00,  4.8776e+00, -6.7418e-01,\n",
       "         -7.6225e-01,  3.4756e+00,  8.5332e+00],\n",
       "        [-9.0252e-01, -6.9167e-01, -3.6667e+00,  6.5856e+00, -8.2080e-01,\n",
       "         -7.8514e-01,  4.9795e+00,  1.1759e+01]], device='cuda:0',\n",
       "       grad_fn=<AddmmBackward0>)"
      ]
     },
     "execution_count": 19,
     "metadata": {},
     "output_type": "execute_result"
    }
   ],
   "source": [
    "mynet(X)[1]"
   ]
  },
  {
   "cell_type": "code",
   "execution_count": null,
   "id": "4987de73",
   "metadata": {},
   "outputs": [],
   "source": []
  }
 ],
 "metadata": {
  "kernelspec": {
   "display_name": "Python 3 (ipykernel)",
   "language": "python",
   "name": "python3"
  },
  "language_info": {
   "codemirror_mode": {
    "name": "ipython",
    "version": 3
   },
   "file_extension": ".py",
   "mimetype": "text/x-python",
   "name": "python",
   "nbconvert_exporter": "python",
   "pygments_lexer": "ipython3",
   "version": "3.9.12"
  }
 },
 "nbformat": 4,
 "nbformat_minor": 5
}
