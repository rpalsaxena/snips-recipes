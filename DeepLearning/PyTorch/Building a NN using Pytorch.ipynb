{
 "cells": [
  {
   "cell_type": "code",
   "execution_count": 1,
   "id": "2c789db3",
   "metadata": {},
   "outputs": [],
   "source": [
    "import torch\n",
    "x = [[1, 2], [3, 4], [5, 6], [7, 8]]\n",
    "X = torch.tensor(x).float()\n",
    "\n",
    "y = [[3], [7], [11], [15]]\n",
    "Y = torch.tensor(y).float()"
   ]
  },
  {
   "cell_type": "code",
   "execution_count": 2,
   "id": "630cdc5d",
   "metadata": {},
   "outputs": [],
   "source": [
    "device = 'cuda' if torch.cuda.is_available() else 'cpu'\n",
    "X = X.to(device)\n",
    "Y = Y.to(device)"
   ]
  },
  {
   "cell_type": "code",
   "execution_count": 4,
   "id": "6ae6bcfb",
   "metadata": {},
   "outputs": [],
   "source": [
    "import torch.nn as nn\n",
    "\n",
    "class MyNet(nn.Module):\n",
    "    def __init__(self):\n",
    "        super().__init__()\n",
    "        self.itoh = nn.Linear(2, 8)\n",
    "        self.htoo = nn.Linear(8, 1)\n",
    "        self.activation = nn.ReLU()\n",
    "    def forward(self, x):\n",
    "        x = self.itoh(x)\n",
    "        x = self.activation(x)\n",
    "        x = self.htoo(x)\n",
    "        return x"
   ]
  },
  {
   "cell_type": "code",
   "execution_count": 7,
   "id": "97459797",
   "metadata": {},
   "outputs": [],
   "source": [
    "net = MyNet().to(device)"
   ]
  },
  {
   "cell_type": "code",
   "execution_count": 8,
   "id": "16fd0687",
   "metadata": {},
   "outputs": [],
   "source": [
    "criterion = nn.MSELoss()"
   ]
  },
  {
   "cell_type": "code",
   "execution_count": null,
   "id": "f7df1722",
   "metadata": {},
   "outputs": [],
   "source": [
    "pred = net(X)\n",
    "\n",
    "loss_val = criterion(pred, Y)\n",
    "print(loss_val)"
   ]
  },
  {
   "cell_type": "code",
   "execution_count": 15,
   "id": "c7e30a88",
   "metadata": {},
   "outputs": [],
   "source": [
    "from torch.optim import SGD\n",
    "opt = SGD(net.parameters(), lr = 0.001)"
   ]
  },
  {
   "cell_type": "code",
   "execution_count": 27,
   "id": "d8a81b47",
   "metadata": {},
   "outputs": [],
   "source": [
    "loss_history = []\n",
    "for i in range(50):\n",
    "    opt.zero_grad()\n",
    "    pred = net(X)\n",
    "    loss_value = criterion(pred, Y)\n",
    "    loss_value.backward()\n",
    "    opt.step()\n",
    "    lv = loss_value.cpu().detach().numpy()\n",
    "    loss_history.append(lv)"
   ]
  },
  {
   "cell_type": "code",
   "execution_count": 28,
   "id": "5236c77e",
   "metadata": {},
   "outputs": [
    {
     "data": {
      "text/plain": [
       "Text(0, 0.5, 'loss value')"
      ]
     },
     "execution_count": 28,
     "metadata": {},
     "output_type": "execute_result"
    },
    {
     "data": {
      "image/png": "[encoded data removed]",
      "text/plain": [
       "<Figure size 432x288 with 1 Axes>"
      ]
     },
     "metadata": {
      "needs_background": "light"
     },
     "output_type": "display_data"
    }
   ],
   "source": [
    "import matplotlib.pyplot as plt\n",
    "%matplotlib inline\n",
    "plt.plot(loss_history)\n",
    "plt.title('Loss variation over increasing epochs')\n",
    "plt.xlabel('epochs')\n",
    "plt.ylabel('loss value')"
   ]
  },
  {
   "cell_type": "code",
   "execution_count": null,
   "id": "9fd173a3",
   "metadata": {},
   "outputs": [],
   "source": []
  }
 ],
 "metadata": {
  "kernelspec": {
   "display_name": "Python 3 (ipykernel)",
   "language": "python",
   "name": "python3"
  },
  "language_info": {
   "codemirror_mode": {
    "name": "ipython",
    "version": 3
   },
   "file_extension": ".py",
   "mimetype": "text/x-python",
   "name": "python",
   "nbconvert_exporter": "python",
   "pygments_lexer": "ipython3",
   "version": "3.9.12"
  }
 },
 "nbformat": 4,
 "nbformat_minor": 5
}
