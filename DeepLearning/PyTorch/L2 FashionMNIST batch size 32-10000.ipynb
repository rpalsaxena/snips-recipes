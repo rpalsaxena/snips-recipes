{
 "cells": [
  {
   "cell_type": "markdown",
   "id": "3d939ce1",
   "metadata": {},
   "source": [
    "# Check performance after increasing the batch size"
   ]
  },
  {
   "cell_type": "code",
   "execution_count": 5,
   "id": "e0d4d5d5",
   "metadata": {},
   "outputs": [],
   "source": [
    "from torchvision import datasets\n",
    "import torch\n",
    "\n",
    "data_folder = \"C:/Users/user/data/FMNIST/\"\n",
    "fmnist = datasets.FashionMNIST(data_folder, download=True, train=True)\n",
    "tr_images = fmnist.data\n",
    "tr_targets= fmnist.targets"
   ]
  },
  {
   "cell_type": "code",
   "execution_count": 6,
   "id": "49fd44f9",
   "metadata": {},
   "outputs": [],
   "source": [
    "val_fmnist = datasets.FashionMNIST(data_folder, download=True, train=False)\n",
    "val_images = val_fmnist.data\n",
    "val_targets = val_fmnist.targets"
   ]
  },
  {
   "cell_type": "code",
   "execution_count": 7,
   "id": "d5dd404f",
   "metadata": {},
   "outputs": [],
   "source": [
    "import matplotlib.pyplot as plt\n",
    "%matplotlib inline\n",
    "import numpy as np\n",
    "\n",
    "from torch.utils.data import DataLoader, Dataset\n",
    "import torch.nn as nn\n",
    "\n",
    "device = \"cuda\" if torch.cuda.is_available() else \"cpu\""
   ]
  },
  {
   "cell_type": "code",
   "execution_count": 8,
   "id": "bed43269",
   "metadata": {},
   "outputs": [],
   "source": [
    "class FMNISTDataset(Dataset):\n",
    "    def __init__(self, x, y):\n",
    "        x = x.float()/255\n",
    "        x = x.view(-1, 28*28)\n",
    "        self.x = x\n",
    "        self.y = y\n",
    "        \n",
    "    def __len__(self):\n",
    "        return len(self.x)\n",
    "    \n",
    "    def __getitem__(self, ix):\n",
    "        return self.x[ix].to(device), self.y[ix].to(device)"
   ]
  },
  {
   "cell_type": "code",
   "execution_count": 9,
   "id": "0205a8c4",
   "metadata": {},
   "outputs": [],
   "source": [
    "## get_data\n",
    "def get_data(batchsize):\n",
    "    train = FMNISTDataset(tr_images, tr_targets)\n",
    "    trainloader = DataLoader(train, batch_size= batchsize, shuffle=True)\n",
    "    \n",
    "    val = FMNISTDataset(val_images, val_targets)\n",
    "    valloader = DataLoader(val, batch_size= batchsize, shuffle=False)\n",
    "    \n",
    "    return trainloader, valloader"
   ]
  },
  {
   "cell_type": "code",
   "execution_count": 14,
   "id": "a44605c8",
   "metadata": {},
   "outputs": [],
   "source": [
    "## get model\n",
    "\n",
    "from torch.optim import SGD, Adam\n",
    "def get_model():\n",
    "    model = nn.Sequential(\n",
    "            nn.Linear(28*28, 1000),\n",
    "            nn.ReLU(),\n",
    "            nn.Linear(1000, 10)\n",
    "    ).to(device)\n",
    "    \n",
    "    loss = nn.CrossEntropyLoss()\n",
    "    optimizer = Adam(model.parameters(), lr=0.01)\n",
    "    return model, loss, optimizer\n",
    "\n",
    "def train_batch(x, y, model, loss, opt):\n",
    "    model.train()\n",
    "    opt.zero_grad()\n",
    "    pred = model(x)\n",
    "    batch_loss = loss(pred, y)\n",
    "    batch_loss.backward()\n",
    "    opt.step()\n",
    "    \n",
    "    return batch_loss.item()\n",
    "\n",
    "\n",
    "@torch.no_grad()\n",
    "def accuracy(x, y, model):\n",
    "    model.eval()\n",
    "    pred = model(x)\n",
    "    max_val, argmax = pred.max(-1)\n",
    "    is_correct = y == argmax\n",
    "    return is_correct.cpu().numpy().tolist()\n",
    "\n",
    "\n",
    "@torch.no_grad()\n",
    "def val_loss(x, y, model, loss):\n",
    "    model.eval()\n",
    "    pred = model(x)\n",
    "    val_loss = loss(pred, y)\n",
    "    return val_loss.item()"
   ]
  },
  {
   "cell_type": "code",
   "execution_count": 15,
   "id": "54b57a4c",
   "metadata": {},
   "outputs": [
    {
     "name": "stdout",
     "output_type": "stream",
     "text": [
      "0\n",
      "1\n",
      "2\n",
      "3\n",
      "4\n",
      "Total time taken:  98.53118014335632\n"
     ]
    }
   ],
   "source": [
    "import time\n",
    "\n",
    "start = time.time()\n",
    "trainloader, valloader = get_data(32)\n",
    "model, loss, opt = get_model()\n",
    "\n",
    "train_losses, train_accuracies = [], []\n",
    "val_losses, val_accuracies = [], []\n",
    "\n",
    "for epoch in range(5):\n",
    "    print(epoch)\n",
    "    train_epoch_losses, train_epoch_accuracies = [], []\n",
    "    val_epoch_losses, val_epoch_accuracies = [], []\n",
    "    \n",
    "    for ix, batch in enumerate(iter(trainloader)):\n",
    "        x, y = batch\n",
    "        batch_loss = train_batch(x, y, model, loss, opt)\n",
    "        train_epoch_losses.append(batch_loss)\n",
    "    train_epoch_loss = np.array(train_epoch_losses).mean()\n",
    "    \n",
    "    for ix, batch in enumerate(iter(trainloader)):\n",
    "        x, y = batch\n",
    "        is_correct = accuracy(x, y, model)\n",
    "        train_epoch_accuracies.extend(is_correct)\n",
    "    train_epoch_accuracy = np.mean(train_epoch_accuracies)\n",
    "\n",
    "\n",
    "    for ix, batch in enumerate(iter(valloader)):\n",
    "        x, y = batch\n",
    "        val_is_correct = accuracy(x, y, model)\n",
    "        validation_loss = val_loss(x, y, model, loss)\n",
    "        val_epoch_accuracies.extend(val_is_correct)\n",
    "        val_epoch_losses.append(validation_loss)\n",
    "        \n",
    "    val_epoch_accuracy = np.mean(val_is_correct)\n",
    "    val_epoch_loss = np.array(val_epoch_losses).mean()\n",
    "    \n",
    "    \n",
    "    train_losses.append(train_epoch_loss)\n",
    "    train_accuracies.append(train_epoch_accuracy)\n",
    "    \n",
    "    val_losses.append(validation_loss)\n",
    "    val_accuracies.append(val_epoch_accuracy)\n",
    "    \n",
    "\n",
    "end = time.time()\n",
    "print(\"Total time taken: \", end-start)"
   ]
  },
  {
   "cell_type": "code",
   "execution_count": 16,
   "id": "213facd5",
   "metadata": {},
   "outputs": [
    {
     "data": {
      "image/png": "[encoded data removed]",
      "text/plain": [
       "<Figure size 432x288 with 1 Axes>"
      ]
     },
     "metadata": {
      "needs_background": "light"
     },
     "output_type": "display_data"
    },
    {
     "name": "stderr",
     "output_type": "stream",
     "text": [
      "C:\\Users\\user\\AppData\\Local\\Temp\\ipykernel_10976\\1316040814.py:23: UserWarning: FixedFormatter should only be used together with FixedLocator\n",
      "  plt.gca().set_yticklabels(['{:.0f}%'.format(x*100) for x in plt.gca().get_yticks()])\n"
     ]
    },
    {
     "data": {
      "image/png": "[encoded data removed]",
      "text/plain": [
       "<Figure size 432x288 with 1 Axes>"
      ]
     },
     "metadata": {
      "needs_background": "light"
     },
     "output_type": "display_data"
    }
   ],
   "source": [
    "epochs = np.arange(5)+1\n",
    "import matplotlib.ticker as mtick\n",
    "import matplotlib.pyplot as plt\n",
    "import matplotlib.ticker as mticker\n",
    "%matplotlib inline\n",
    "plt.subplot(211)\n",
    "plt.plot(epochs, train_losses, 'bo', label='Training loss')\n",
    "plt.plot(epochs, val_losses, 'r', label='Validation loss')\n",
    "plt.gca().xaxis.set_major_locator(mticker.MultipleLocator(1))\n",
    "plt.title('Training and validation loss when batch size is 32')\n",
    "plt.xlabel('Epochs')\n",
    "plt.ylabel('Loss')\n",
    "plt.legend()\n",
    "plt.grid('off')\n",
    "plt.show()\n",
    "plt.subplot(212)\n",
    "plt.plot(epochs, train_accuracies, 'bo', label='Training accuracy')\n",
    "plt.plot(epochs, val_accuracies, 'r', label='Validation accuracy')\n",
    "plt.gca().xaxis.set_major_locator(mticker.MultipleLocator(1))\n",
    "plt.title('Training and validation accuracy when batch size is 32')\n",
    "plt.xlabel('Epochs')\n",
    "plt.ylabel('Accuracy')\n",
    "plt.gca().set_yticklabels(['{:.0f}%'.format(x*100) for x in plt.gca().get_yticks()]) \n",
    "plt.legend()\n",
    "plt.grid('off')\n",
    "plt.show()"
   ]
  },
  {
   "cell_type": "code",
   "execution_count": 17,
   "id": "02a7f468",
   "metadata": {},
   "outputs": [
    {
     "name": "stdout",
     "output_type": "stream",
     "text": [
      "0\n",
      "1\n",
      "2\n",
      "3\n",
      "4\n",
      "Total time taken:  77.77366733551025\n"
     ]
    }
   ],
   "source": [
    "import time\n",
    "\n",
    "start = time.time()\n",
    "trainloader, valloader = get_data(10000)\n",
    "model, loss, opt = get_model()\n",
    "\n",
    "train_losses, train_accuracies = [], []\n",
    "val_losses, val_accuracies = [], []\n",
    "\n",
    "for epoch in range(5):\n",
    "    print(epoch)\n",
    "    train_epoch_losses, train_epoch_accuracies = [], []\n",
    "    val_epoch_losses, val_epoch_accuracies = [], []\n",
    "    \n",
    "    for ix, batch in enumerate(iter(trainloader)):\n",
    "        x, y = batch\n",
    "        batch_loss = train_batch(x, y, model, loss, opt)\n",
    "        train_epoch_losses.append(batch_loss)\n",
    "    train_epoch_loss = np.array(train_epoch_losses).mean()\n",
    "    \n",
    "    for ix, batch in enumerate(iter(trainloader)):\n",
    "        x, y = batch\n",
    "        is_correct = accuracy(x, y, model)\n",
    "        train_epoch_accuracies.extend(is_correct)\n",
    "    train_epoch_accuracy = np.mean(train_epoch_accuracies)\n",
    "\n",
    "\n",
    "    for ix, batch in enumerate(iter(valloader)):\n",
    "        x, y = batch\n",
    "        val_is_correct = accuracy(x, y, model)\n",
    "        validation_loss = val_loss(x, y, model, loss)\n",
    "        val_epoch_accuracies.extend(val_is_correct)\n",
    "        val_epoch_losses.append(validation_loss)\n",
    "        \n",
    "    val_epoch_accuracy = np.mean(val_is_correct)\n",
    "    val_epoch_loss = np.array(val_epoch_losses).mean()\n",
    "    \n",
    "    \n",
    "    train_losses.append(train_epoch_loss)\n",
    "    train_accuracies.append(train_epoch_accuracy)\n",
    "    \n",
    "    val_losses.append(validation_loss)\n",
    "    val_accuracies.append(val_epoch_accuracy)\n",
    "    \n",
    "\n",
    "end = time.time()\n",
    "print(\"Total time taken: \", end-start)"
   ]
  },
  {
   "cell_type": "code",
   "execution_count": 18,
   "id": "c3063dc6",
   "metadata": {},
   "outputs": [
    {
     "data": {
      "image/png": "[encoded data removed]",
      "text/plain": [
       "<Figure size 432x288 with 1 Axes>"
      ]
     },
     "metadata": {
      "needs_background": "light"
     },
     "output_type": "display_data"
    },
    {
     "name": "stderr",
     "output_type": "stream",
     "text": [
      "C:\\Users\\user\\AppData\\Local\\Temp\\ipykernel_10976\\1316040814.py:23: UserWarning: FixedFormatter should only be used together with FixedLocator\n",
      "  plt.gca().set_yticklabels(['{:.0f}%'.format(x*100) for x in plt.gca().get_yticks()])\n"
     ]
    },
    {
     "data": {
      "image/png": "[encoded data removed]",
      "text/plain": [
       "<Figure size 432x288 with 1 Axes>"
      ]
     },
     "metadata": {
      "needs_background": "light"
     },
     "output_type": "display_data"
    }
   ],
   "source": [
    "epochs = np.arange(5)+1\n",
    "import matplotlib.ticker as mtick\n",
    "import matplotlib.pyplot as plt\n",
    "import matplotlib.ticker as mticker\n",
    "%matplotlib inline\n",
    "plt.subplot(211)\n",
    "plt.plot(epochs, train_losses, 'bo', label='Training loss')\n",
    "plt.plot(epochs, val_losses, 'r', label='Validation loss')\n",
    "plt.gca().xaxis.set_major_locator(mticker.MultipleLocator(1))\n",
    "plt.title('Training and validation loss when batch size is 32')\n",
    "plt.xlabel('Epochs')\n",
    "plt.ylabel('Loss')\n",
    "plt.legend()\n",
    "plt.grid('off')\n",
    "plt.show()\n",
    "plt.subplot(212)\n",
    "plt.plot(epochs, train_accuracies, 'bo', label='Training accuracy')\n",
    "plt.plot(epochs, val_accuracies, 'r', label='Validation accuracy')\n",
    "plt.gca().xaxis.set_major_locator(mticker.MultipleLocator(1))\n",
    "plt.title('Training and validation accuracy when batch size is 32')\n",
    "plt.xlabel('Epochs')\n",
    "plt.ylabel('Accuracy')\n",
    "plt.gca().set_yticklabels(['{:.0f}%'.format(x*100) for x in plt.gca().get_yticks()]) \n",
    "plt.legend()\n",
    "plt.grid('off')\n",
    "plt.show()"
   ]
  },
  {
   "cell_type": "markdown",
   "id": "df31cb54",
   "metadata": {},
   "source": [
    "Here, we can see that the accuracy and loss values did not reach the same levels as that of the previous scenario, where the batch size was 32, because the time weights are updated fewer times when the batch size is 32 (1875). In the scenario where the batch size is 10,000, there were six weight updates per epoch since there were 10,000 data points per batch, which means that the total training data size was 60,000.So far, we have learned how to scale a dataset, as well as the impact of varying the batch size on the model's training time to achieve a certain accuracy. I"
   ]
  },
  {
   "cell_type": "code",
   "execution_count": null,
   "id": "9c5c62bf",
   "metadata": {},
   "outputs": [],
   "source": []
  }
 ],
 "metadata": {
  "kernelspec": {
   "display_name": "Python 3 (ipykernel)",
   "language": "python",
   "name": "python3"
  },
  "language_info": {
   "codemirror_mode": {
    "name": "ipython",
    "version": 3
   },
   "file_extension": ".py",
   "mimetype": "text/x-python",
   "name": "python",
   "nbconvert_exporter": "python",
   "pygments_lexer": "ipython3",
   "version": "3.9.12"
  }
 },
 "nbformat": 4,
 "nbformat_minor": 5
}
